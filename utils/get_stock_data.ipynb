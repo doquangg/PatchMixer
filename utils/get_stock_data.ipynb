{
 "cells": [
  {
   "cell_type": "code",
   "execution_count": 19,
   "metadata": {},
   "outputs": [
    {
     "name": "stdout",
     "output_type": "stream",
     "text": [
      "[*********************100%%**********************]  1 of 1 completed\n",
      "Index(['Open', 'High', 'Low', 'Close', 'OT'], dtype='object')\n",
      "                  Open        High         Low       Close   OT\n",
      "Date                                                           \n",
      "2021-04-14  381.000000  429.540009  310.000000  328.279999  0.0\n",
      "2021-04-15  348.899994  349.200012  317.269989  322.750000  0.0\n",
      "2021-04-16  327.500000  345.989990  321.029999  342.000000  0.0\n",
      "2021-04-19  337.260010  341.010010  326.790009  333.000000  0.0\n",
      "2021-04-20  333.429993  334.829987  312.019989  320.820007  0.0\n",
      "...                ...         ...         ...         ...  ...\n",
      "2024-05-20  207.960007  226.259995  203.720001  225.190002  0.0\n",
      "2024-05-21  231.970001  233.649994  220.119995  225.779999  0.0\n",
      "2024-05-22  225.009995  238.770004  221.210007  231.509995  0.0\n",
      "2024-05-23  233.809998  234.320007  217.660004  218.860001  0.0\n",
      "2024-05-24  221.000000  237.789993  220.050003  237.649994  0.0\n",
      "\n",
      "[785 rows x 5 columns]\n"
     ]
    },
    {
     "name": "stderr",
     "output_type": "stream",
     "text": [
      "C:\\Users\\Quang\\AppData\\Local\\Temp\\ipykernel_27464\\1868108759.py:26: SettingWithCopyWarning: \n",
      "A value is trying to be set on a copy of a slice from a DataFrame.\n",
      "Try using .loc[row_indexer,col_indexer] = value instead\n",
      "\n",
      "See the caveats in the documentation: https://pandas.pydata.org/pandas-docs/stable/user_guide/indexing.html#returning-a-view-versus-a-copy\n",
      "  ticker_df['OT'] = OT_insert\n",
      "C:\\Users\\Quang\\AppData\\Local\\Temp\\ipykernel_27464\\1868108759.py:30: SettingWithCopyWarning: \n",
      "A value is trying to be set on a copy of a slice from a DataFrame\n",
      "\n",
      "See the caveats in the documentation: https://pandas.pydata.org/pandas-docs/stable/user_guide/indexing.html#returning-a-view-versus-a-copy\n",
      "  ticker_df.rename(columns={'Date':'date'}, inplace=True)\n"
     ]
    }
   ],
   "source": [
    "# Imports\n",
    "import yfinance as yf\n",
    "import numpy as np\n",
    "import matplotlib.pyplot as plt\n",
    "import pandas as pd\n",
    "from datetime import datetime\n",
    "\n",
    "################################################################################\n",
    "\n",
    "# Ticker String\n",
    "ticker = 'COIN'\n",
    "\n",
    "# Get today's date\n",
    "today = datetime.today().strftime('%Y-%m-%d')\n",
    "\n",
    "# Download relevant ticker data, using data from the inception of the ticker to\n",
    "# the last possible date.\n",
    "ticker_df = yf.download(ticker, period=\"max\")\n",
    "\n",
    "# Choose open, high, low and close as variables, and trim the dataframe\n",
    "# accordingly.\n",
    "ticker_df = ticker_df[['Open', 'High', 'Low', 'Close']]\n",
    "\n",
    "# Add another column for OT\n",
    "OT_insert = np.zeros(len(ticker_df.index))\n",
    "ticker_df['OT'] = OT_insert\n",
    "\n",
    "# FIXME\n",
    "# Rename the first column to 'date'\n",
    "\n",
    "# Debug print\n",
    "print(ticker_df)\n",
    "\n",
    "# Export this dataframe to a CSV.\n",
    "csv_path = f'../dataset/stocks/{ticker}_{today}.csv'\n",
    "ticker_df.to_csv(csv_path)\n"
   ]
  }
 ],
 "metadata": {
  "kernelspec": {
   "display_name": "Python 3",
   "language": "python",
   "name": "python3"
  },
  "language_info": {
   "codemirror_mode": {
    "name": "ipython",
    "version": 3
   },
   "file_extension": ".py",
   "mimetype": "text/x-python",
   "name": "python",
   "nbconvert_exporter": "python",
   "pygments_lexer": "ipython3",
   "version": "3.11.5"
  }
 },
 "nbformat": 4,
 "nbformat_minor": 2
}
